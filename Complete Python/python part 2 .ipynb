{
 "cells": [
  {
   "cell_type": "markdown",
   "id": "b13a7d78",
   "metadata": {},
   "source": [
    "## Syntax \n",
    "\n",
    "Python syntax can be executed by writing directly in the Command Line:"
   ]
  },
  {
   "cell_type": "markdown",
   "id": "654c3313",
   "metadata": {},
   "source": [
    "print()\n",
    "-"
   ]
  },
  {
   "cell_type": "code",
   "execution_count": 1,
   "id": "a7ffa970",
   "metadata": {},
   "outputs": [
    {
     "name": "stdout",
     "output_type": "stream",
     "text": [
      "10\n"
     ]
    }
   ],
   "source": [
    "print (10)"
   ]
  },
  {
   "cell_type": "code",
   "execution_count": 2,
   "id": "b9ee88a9",
   "metadata": {},
   "outputs": [
    {
     "name": "stdout",
     "output_type": "stream",
     "text": [
      "34\n"
     ]
    }
   ],
   "source": [
    "a=34\n",
    "print(a)"
   ]
  },
  {
   "cell_type": "code",
   "execution_count": 3,
   "id": "4cf6da96",
   "metadata": {},
   "outputs": [
    {
     "name": "stdout",
     "output_type": "stream",
     "text": [
      "346.64778\n"
     ]
    }
   ],
   "source": [
    "print(346.64778)"
   ]
  },
  {
   "cell_type": "code",
   "execution_count": 4,
   "id": "68b90e4c",
   "metadata": {},
   "outputs": [
    {
     "name": "stdout",
     "output_type": "stream",
     "text": [
      "4554 66474\n"
     ]
    }
   ],
   "source": [
    "print(4554,66474)"
   ]
  },
  {
   "cell_type": "code",
   "execution_count": 5,
   "id": "2ba17156",
   "metadata": {},
   "outputs": [
    {
     "name": "stdout",
     "output_type": "stream",
     "text": [
      "77 76451 Rana 4546.776 Saeed\n"
     ]
    }
   ],
   "source": [
    "print(77,76451,\"Rana\",4546.776,\"Saeed\")"
   ]
  },
  {
   "cell_type": "markdown",
   "id": "0b92d3bd",
   "metadata": {},
   "source": [
    "Variable\n",
    "-"
   ]
  },
  {
   "cell_type": "markdown",
   "id": "c57e630c",
   "metadata": {},
   "source": [
    "Python has no command for declaring a variable.\n",
    "\n",
    "A variable is created the moment you first assign a value to it"
   ]
  },
  {
   "cell_type": "code",
   "execution_count": 9,
   "id": "d0a103cb",
   "metadata": {},
   "outputs": [
    {
     "name": "stdout",
     "output_type": "stream",
     "text": [
      "RanaSaeed\n"
     ]
    }
   ],
   "source": [
    "first_name=\"Rana\"\n",
    "last_name=\"Saeed\"\n",
    "print(first_name + last_name)"
   ]
  },
  {
   "cell_type": "code",
   "execution_count": 10,
   "id": "9447e3f6",
   "metadata": {},
   "outputs": [
    {
     "name": "stdout",
     "output_type": "stream",
     "text": [
      "1.0\n"
     ]
    }
   ],
   "source": [
    "value1=100\n",
    "value2=100\n",
    "result=value1/value2\n",
    "print(result)\n"
   ]
  },
  {
   "cell_type": "code",
   "execution_count": 11,
   "id": "8465f858",
   "metadata": {},
   "outputs": [
    {
     "name": "stdout",
     "output_type": "stream",
     "text": [
      "1\n"
     ]
    }
   ],
   "source": [
    "value1=100\n",
    "value2=100\n",
    "result=value1//value2\n",
    "print(result)"
   ]
  },
  {
   "cell_type": "code",
   "execution_count": 16,
   "id": "d40366c8",
   "metadata": {},
   "outputs": [
    {
     "name": "stdout",
     "output_type": "stream",
     "text": [
      "Orange\n",
      "Banana\n",
      "Cherry\n"
     ]
    }
   ],
   "source": [
    "x, y, z = \"Orange\", \"Banana\", \"Cherry\"\n",
    "print(x)\n",
    "print(y)\n",
    "print(z)"
   ]
  },
  {
   "cell_type": "code",
   "execution_count": 17,
   "id": "4320f0c3",
   "metadata": {},
   "outputs": [
    {
     "name": "stdout",
     "output_type": "stream",
     "text": [
      "Orange\n",
      "Orange\n",
      "Orange\n"
     ]
    }
   ],
   "source": [
    "x = y = z = \"Orange\"\n",
    "print(x)\n",
    "print(y)\n",
    "print(z)"
   ]
  },
  {
   "cell_type": "code",
   "execution_count": 18,
   "id": "f6d57ef2",
   "metadata": {},
   "outputs": [
    {
     "name": "stdout",
     "output_type": "stream",
     "text": [
      "Python is awesome\n"
     ]
    }
   ],
   "source": [
    "x = \"Python\"\n",
    "y = \"is\"\n",
    "z = \"awesome\"\n",
    "print(x, y, z)"
   ]
  },
  {
   "cell_type": "code",
   "execution_count": 19,
   "id": "2841da6b",
   "metadata": {},
   "outputs": [
    {
     "name": "stdout",
     "output_type": "stream",
     "text": [
      "Python is awesome\n"
     ]
    }
   ],
   "source": [
    "x = \"awesome\"\n",
    "\n",
    "def myfunc():\n",
    "  print(\"Python is \" + x)\n",
    "\n",
    "myfunc()"
   ]
  },
  {
   "cell_type": "markdown",
   "id": "d31a1fc4",
   "metadata": {},
   "source": [
    "type()\n",
    "-"
   ]
  },
  {
   "cell_type": "code",
   "execution_count": 6,
   "id": "56e59455",
   "metadata": {},
   "outputs": [
    {
     "data": {
      "text/plain": [
       "int"
      ]
     },
     "execution_count": 6,
     "metadata": {},
     "output_type": "execute_result"
    }
   ],
   "source": [
    "a=29\n",
    "type(a)"
   ]
  },
  {
   "cell_type": "code",
   "execution_count": 7,
   "id": "a80aaff8",
   "metadata": {},
   "outputs": [
    {
     "data": {
      "text/plain": [
       "float"
      ]
     },
     "execution_count": 7,
     "metadata": {},
     "output_type": "execute_result"
    }
   ],
   "source": [
    "a=6577.78\n",
    "type(a)\n"
   ]
  },
  {
   "cell_type": "code",
   "execution_count": 8,
   "id": "bf808d8a",
   "metadata": {},
   "outputs": [
    {
     "data": {
      "text/plain": [
       "str"
      ]
     },
     "execution_count": 8,
     "metadata": {},
     "output_type": "execute_result"
    }
   ],
   "source": [
    "type(\"Rana Saeed\")"
   ]
  },
  {
   "cell_type": "markdown",
   "id": "2d6fecee",
   "metadata": {},
   "source": [
    "Comments\n",
    "-"
   ]
  },
  {
   "cell_type": "markdown",
   "id": "f369be4a",
   "metadata": {},
   "source": [
    "Comments can be used to explain Python code.\n",
    "\n",
    "Comments can be used to make the code more readable.\n",
    "\n",
    "Comments can be used to prevent execution when testing code.\n",
    "\n"
   ]
  },
  {
   "cell_type": "markdown",
   "id": "b85882f9",
   "metadata": {},
   "source": [
    "Single Line Comment\n",
    "-"
   ]
  },
  {
   "cell_type": "code",
   "execution_count": 13,
   "id": "83611fa1",
   "metadata": {},
   "outputs": [
    {
     "name": "stdout",
     "output_type": "stream",
     "text": [
      "Hello, World!\n"
     ]
    }
   ],
   "source": [
    "#This is a comment\n",
    "\n",
    "print(\"Hello, World!\")"
   ]
  },
  {
   "cell_type": "code",
   "execution_count": 14,
   "id": "b01f7f18",
   "metadata": {},
   "outputs": [
    {
     "name": "stdout",
     "output_type": "stream",
     "text": [
      "Cheers, Mate!\n"
     ]
    }
   ],
   "source": [
    "#print(\"Hello, World!\")\n",
    "\n",
    "print(\"Cheers, Mate!\")"
   ]
  },
  {
   "cell_type": "markdown",
   "id": "087c6b51",
   "metadata": {},
   "source": [
    "Multiline Comments\n",
    "-\n",
    "Python does not really have a syntax for multiline comments.\n",
    "\n",
    "To add a multiline comment you could insert a # for each line:"
   ]
  },
  {
   "cell_type": "code",
   "execution_count": 15,
   "id": "c3daf1ab",
   "metadata": {},
   "outputs": [
    {
     "name": "stdout",
     "output_type": "stream",
     "text": [
      "Hello, World!\n"
     ]
    }
   ],
   "source": [
    "\"\"\"\n",
    "This is a comment\n",
    "written in\n",
    "more than just one line\n",
    "\"\"\"\n",
    "print(\"Hello, World!\")"
   ]
  },
  {
   "cell_type": "markdown",
   "id": "7fd042ec",
   "metadata": {},
   "source": [
    "# Python Data Types\n"
   ]
  },
  {
   "cell_type": "markdown",
   "id": "59cfacd4",
   "metadata": {},
   "source": [
    "In programming, data type is an important concept.\n",
    "\n",
    "Variables can store data of different types, and different types can do different things.\n",
    "\n",
    "Python has the following data types built-in by default, in these categories:\n",
    "\n",
    "- Text Type:\tstr\n",
    "- Numeric Types:\tint, float, complex\n",
    "- Sequence Types:\tlist, tuple, range\n",
    "- Mapping Type:\tdict\n",
    "- Set Types:\tset, frozenset\n",
    "- Boolean Type:\tbool\n"
   ]
  },
  {
   "cell_type": "markdown",
   "id": "afc0cc54",
   "metadata": {},
   "source": [
    "Example\tData Typpe\n",
    "-\n",
    "- x = \"Hello World\"\t  == str\t\n",
    "- x = 20\t          == int\t\n",
    "- x = 20.5\t          == float\t\n",
    "- x = 1j\t          == complex\t\n",
    "- x = [\"apple\", \"banana\", \"cherry\"]\t      == list\t\n",
    "- x = (\"apple\", \"banana\", \"cherry\")\t      == tuple\t\n",
    "- x = range(6)\trange\t\n",
    "- x = {\"name\" : \"John\", \"age\" : 36}\t      == dict\t\n",
    "- x = {\"apple\", \"banana\", \"cherry\"}\t=     == set\t\n",
    "- x = frozenset({\"apple\", \"banana\", \"cherry\"})\t == frozenset\t\n",
    "- x = True\t                                   == bool\t\n"
   ]
  },
  {
   "cell_type": "markdown",
   "id": "642b4648",
   "metadata": {},
   "source": [
    "# type Casting\n",
    "\n",
    "There may be times when you want to specify a type on to a variable. This can be done with casting. \n",
    "\n",
    "- int() - constructs an integer number from an integer literal, a float literal (by removing all decimals), or a string literal (providing the string represents a whole number)\n",
    "- float() - constructs a float number from an integer literal, a float literal or a string literal (providing the string represents a float or an integer)\n",
    "- str() - constructs a string from a wide variety of data types, including strings, integer literals and float literals"
   ]
  },
  {
   "cell_type": "markdown",
   "id": "05105264",
   "metadata": {},
   "source": [
    "Integer:"
   ]
  },
  {
   "cell_type": "code",
   "execution_count": 21,
   "id": "cd71e258",
   "metadata": {},
   "outputs": [],
   "source": [
    "\n",
    "x = int(1)   # x will be 1\n",
    "y = int(2.8) # y will be 2\n",
    "z = int(\"3\") # z will be 3"
   ]
  },
  {
   "cell_type": "code",
   "execution_count": 23,
   "id": "cc686a0c",
   "metadata": {},
   "outputs": [
    {
     "name": "stdout",
     "output_type": "stream",
     "text": [
      "s1 2 3.0\n"
     ]
    }
   ],
   "source": [
    "print(x, y, z)"
   ]
  },
  {
   "cell_type": "markdown",
   "id": "1a00c5b8",
   "metadata": {},
   "source": [
    "Float:"
   ]
  },
  {
   "cell_type": "code",
   "execution_count": 25,
   "id": "d7228fbb",
   "metadata": {},
   "outputs": [],
   "source": [
    "x = float(1)     # x will be 1.0\n",
    "y = float(2.8)   # y will be 2.8\n",
    "z = float(\"3\")   # z will be 3.0\n",
    "w = float(\"4.2\") # w will be 4.2"
   ]
  },
  {
   "cell_type": "code",
   "execution_count": 26,
   "id": "8a301b3b",
   "metadata": {},
   "outputs": [
    {
     "name": "stdout",
     "output_type": "stream",
     "text": [
      "1.0 2.8 3.0 4.2\n"
     ]
    }
   ],
   "source": [
    "print(x, y, z, w)"
   ]
  },
  {
   "cell_type": "markdown",
   "id": "d4760155",
   "metadata": {},
   "source": [
    "String:"
   ]
  },
  {
   "cell_type": "code",
   "execution_count": 27,
   "id": "fc8672dd",
   "metadata": {},
   "outputs": [],
   "source": [
    "x = str(\"s1\") # x will be 's1'\n",
    "y = str(2)    # y will be '2'\n",
    "z = str(3.0)  # z will be '3.0'"
   ]
  },
  {
   "cell_type": "code",
   "execution_count": 28,
   "id": "b49b93ef",
   "metadata": {},
   "outputs": [
    {
     "name": "stdout",
     "output_type": "stream",
     "text": [
      "s1 2 3.0\n"
     ]
    }
   ],
   "source": [
    "print(x, y, z)"
   ]
  },
  {
   "cell_type": "code",
   "execution_count": null,
   "id": "b3369d5e",
   "metadata": {},
   "outputs": [],
   "source": []
  }
 ],
 "metadata": {
  "kernelspec": {
   "display_name": "Python 3 (ipykernel)",
   "language": "python",
   "name": "python3"
  },
  "language_info": {
   "codemirror_mode": {
    "name": "ipython",
    "version": 3
   },
   "file_extension": ".py",
   "mimetype": "text/x-python",
   "name": "python",
   "nbconvert_exporter": "python",
   "pygments_lexer": "ipython3",
   "version": "3.11.5"
  }
 },
 "nbformat": 4,
 "nbformat_minor": 5
}
